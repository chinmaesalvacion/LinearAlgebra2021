{
  "nbformat": 4,
  "nbformat_minor": 0,
  "metadata": {
    "colab": {
      "name": "Assignment2.ipynb",
      "provenance": [],
      "collapsed_sections": [],
      "toc_visible": true,
      "authorship_tag": "ABX9TyMk683x9uI+SA6Fxv2Q+eAF",
      "include_colab_link": true
    },
    "kernelspec": {
      "name": "python3",
      "display_name": "Python 3"
    },
    "language_info": {
      "name": "python"
    }
  },
  "cells": [
    {
      "cell_type": "markdown",
      "metadata": {
        "id": "view-in-github",
        "colab_type": "text"
      },
      "source": [
        "<a href=\"https://colab.research.google.com/github/chinmaesalvacion/LinearAlgebra2021/blob/main/Assignment2.ipynb\" target=\"_parent\"><img src=\"https://colab.research.google.com/assets/colab-badge.svg\" alt=\"Open In Colab\"/></a>"
      ]
    },
    {
      "cell_type": "markdown",
      "metadata": {
        "id": "PCBVN8UUrpHR"
      },
      "source": [
        "### Welcome to Python Fundamentals \n",
        "In this module, we are going to establish our skills in Python programming. In this notebook we are going to cover: \n",
        "\n",
        "*   Variables and Data Types\n",
        "*   Operations\n",
        "\n",
        "*   Input and Output Operations\n",
        "*   Logic Control \n",
        "\n",
        "*   Iterables\n",
        "*   Functions\n",
        "\n",
        "![image](https://static.frontendmasters.com/assets/courses/2019-04-15-python/thumb.webp)\n",
        "\n",
        "\n",
        "\n",
        "\n",
        "\n",
        "\n"
      ]
    },
    {
      "cell_type": "markdown",
      "metadata": {
        "id": "8bbXb63dswEd"
      },
      "source": [
        "## Variables and Data Types\n",
        ">Variables are considered as \"memory locations\" in which they can store values of a specific data declared. Take note that the value may change throughout the program when there are new data being entered hence the name--variables. [1]\n",
        "\n",
        "\n"
      ]
    },
    {
      "cell_type": "markdown",
      "metadata": {
        "id": "b7saw8AMbAH_"
      },
      "source": [
        "The codes below are the variables being declared. As you can see, there are variations regarding the values that has been inputted where: the data type <i>string</i> is a text variables while the <i>float</i> and <i>int</i> are for numbers. The only difference is the <i>int</i> known as \"integer\" can only hold a whole number without decimal places in which it is the function of the <i>float</i>. [1]"
      ]
    },
    {
      "cell_type": "code",
      "metadata": {
        "id": "neOWRxQIs6DV"
      },
      "source": [
        "x = 1\n",
        "a, b = 3, -2\n"
      ],
      "execution_count": null,
      "outputs": []
    },
    {
      "cell_type": "code",
      "metadata": {
        "id": "Q2XaaDvttaAv"
      },
      "source": [
        "type(x)"
      ],
      "execution_count": null,
      "outputs": []
    },
    {
      "cell_type": "code",
      "metadata": {
        "id": "MInxIUKbt_FW"
      },
      "source": [
        "y = 3.0\n",
        "type(y)"
      ],
      "execution_count": null,
      "outputs": []
    },
    {
      "cell_type": "code",
      "metadata": {
        "id": "r5kU7MyTuarl"
      },
      "source": [
        "x = float(x)\n",
        "type(x)\n",
        "x"
      ],
      "execution_count": null,
      "outputs": []
    },
    {
      "cell_type": "code",
      "metadata": {
        "colab": {
          "base_uri": "https://localhost:8080/"
        },
        "id": "HmL01mDluupe",
        "outputId": "f52db009-7ac0-4254-8cc7-14c4ad76be8b"
      },
      "source": [
        "s, t, u = '1','3','three'\n",
        "type(u)"
      ],
      "execution_count": null,
      "outputs": [
        {
          "output_type": "execute_result",
          "data": {
            "text/plain": [
              "str"
            ]
          },
          "metadata": {},
          "execution_count": 9
        }
      ]
    },
    {
      "cell_type": "markdown",
      "metadata": {
        "id": "x021wY8avmAm"
      },
      "source": [
        "## Operations\n",
        "In Python, operators are used to perform the different operations towards the values such as the basic <b>addition, subtraction, division</b> and <b>multiplication</b>.In addition, there are also advanced operations such as <b>floor division</b>, <b>exponentiation</b> and <b>modulo</b>."
      ]
    },
    {
      "cell_type": "markdown",
      "metadata": {
        "id": "jNOvfNzYvxtv"
      },
      "source": [
        "### Arithmetic"
      ]
    },
    {
      "cell_type": "code",
      "metadata": {
        "id": "7wuhOK1qv7De"
      },
      "source": [
        "w, x, y, z = 4.0, -3.0, 2, -32\n"
      ],
      "execution_count": null,
      "outputs": []
    },
    {
      "cell_type": "code",
      "metadata": {
        "colab": {
          "base_uri": "https://localhost:8080/"
        },
        "id": "yoRaOxrIwY0I",
        "outputId": "495934be-32f5-4d8f-bfa8-34ad86fc6297"
      },
      "source": [
        "### Addition \n",
        "S = w + x\n"
      ],
      "execution_count": null,
      "outputs": [
        {
          "output_type": "execute_result",
          "data": {
            "text/plain": [
              "1.0"
            ]
          },
          "metadata": {},
          "execution_count": 13
        }
      ]
    },
    {
      "cell_type": "code",
      "metadata": {
        "colab": {
          "base_uri": "https://localhost:8080/"
        },
        "id": "sxpWFJ9pw0YP",
        "outputId": "18c58fd0-754b-49bf-eded-3d05154df4dc"
      },
      "source": [
        "### Subtraction\n",
        "D = y - z\n",
        "D"
      ],
      "execution_count": null,
      "outputs": [
        {
          "output_type": "execute_result",
          "data": {
            "text/plain": [
              "33"
            ]
          },
          "metadata": {},
          "execution_count": 17
        }
      ]
    },
    {
      "cell_type": "code",
      "metadata": {
        "id": "lzsFFiMdxKLv"
      },
      "source": [
        "### Multiplication\n",
        "P = w*z\n",
        "P"
      ],
      "execution_count": null,
      "outputs": []
    },
    {
      "cell_type": "code",
      "metadata": {
        "id": "xd8CFi6mxlnP"
      },
      "source": [
        "### Division\n",
        "Q = y/x\n",
        "Q"
      ],
      "execution_count": null,
      "outputs": []
    },
    {
      "cell_type": "markdown",
      "metadata": {
        "id": "qMegdzG_e7y3"
      },
      "source": [
        "In floor division, the division of operands where the result is the quotient of its digits after the decimal point are removed. But if one of the operands is negative, the result is floored, it must be rounded away from zero."
      ]
    },
    {
      "cell_type": "code",
      "metadata": {
        "colab": {
          "base_uri": "https://localhost:8080/"
        },
        "id": "bonbFuo1yMOu",
        "outputId": "c1a223eb-fcd7-47b8-bfc4-966aa7f6cc69"
      },
      "source": [
        "### Floor Division\n",
        "Qf = w//z\n",
        "Qf"
      ],
      "execution_count": null,
      "outputs": [
        {
          "output_type": "execute_result",
          "data": {
            "text/plain": [
              "-1.0"
            ]
          },
          "metadata": {},
          "execution_count": 25
        }
      ]
    },
    {
      "cell_type": "code",
      "metadata": {
        "colab": {
          "base_uri": "https://localhost:8080/"
        },
        "id": "n1O9EUaUy8Se",
        "outputId": "8ab657aa-84b4-4da5-ee43-4f4a005af011"
      },
      "source": [
        "### Exponentiation\n",
        "E = w**w\n",
        "E"
      ],
      "execution_count": null,
      "outputs": [
        {
          "output_type": "execute_result",
          "data": {
            "text/plain": [
              "256.0"
            ]
          },
          "metadata": {},
          "execution_count": 29
        }
      ]
    },
    {
      "cell_type": "markdown",
      "metadata": {
        "id": "8fxnMERofDpj"
      },
      "source": [
        "The modulo works when it divides the left hand operand by right hand operand and returns remainder. Below is the code and inserted photo to explain the modulo. [2]"
      ]
    },
    {
      "cell_type": "code",
      "metadata": {
        "colab": {
          "base_uri": "https://localhost:8080/"
        },
        "id": "BKmMlxPtzSHW",
        "outputId": "99809638-e213-4573-8181-f0b4d0765fe5"
      },
      "source": [
        "### Modulo\n",
        "mod = z%x\n",
        "mod"
      ],
      "execution_count": null,
      "outputs": [
        {
          "output_type": "execute_result",
          "data": {
            "text/plain": [
              "-2.0"
            ]
          },
          "metadata": {},
          "execution_count": 31
        }
      ]
    },
    {
      "cell_type": "markdown",
      "metadata": {
        "id": "VuXiG-5LftOR"
      },
      "source": [
        "![image](https://www.freecodecamp.org/news/content/images/2019/09/image-197.png) [3]"
      ]
    },
    {
      "cell_type": "markdown",
      "metadata": {
        "id": "6hrwqchKzlYR"
      },
      "source": [
        "### Assignment \n",
        "This function is designated to assign objects to names. The name of an assignment statement is written on the left side of the equal sign (=). Shown below are examples of increment (+=), decrement (-=), multipication assignment operator (*=), and division assignment (/=)."
      ]
    },
    {
      "cell_type": "code",
      "metadata": {
        "id": "nCk4X3PgzriY"
      },
      "source": [
        "A, B, C, D, E = 0, 100, 2, 1, 2"
      ],
      "execution_count": null,
      "outputs": []
    },
    {
      "cell_type": "code",
      "metadata": {
        "colab": {
          "base_uri": "https://localhost:8080/"
        },
        "id": "ScQZ3Ni5zyKu",
        "outputId": "8c0bc2d5-fbf3-474b-dfce-9fc6e50604f4"
      },
      "source": [
        "A += w \n",
        "A"
      ],
      "execution_count": null,
      "outputs": [
        {
          "output_type": "execute_result",
          "data": {
            "text/plain": [
              "12.0"
            ]
          },
          "metadata": {},
          "execution_count": 35
        }
      ]
    },
    {
      "cell_type": "code",
      "metadata": {
        "colab": {
          "base_uri": "https://localhost:8080/"
        },
        "id": "M_inu_ZK0Ib4",
        "outputId": "222f4c02-7a88-430c-efbe-ff6edab828a2"
      },
      "source": [
        "B -= x\n",
        "B"
      ],
      "execution_count": null,
      "outputs": [
        {
          "output_type": "execute_result",
          "data": {
            "text/plain": [
              "106.0"
            ]
          },
          "metadata": {},
          "execution_count": 37
        }
      ]
    },
    {
      "cell_type": "code",
      "metadata": {
        "id": "TLWSExwx0ZjT"
      },
      "source": [
        "C *= w \n",
        "C"
      ],
      "execution_count": null,
      "outputs": []
    },
    {
      "cell_type": "code",
      "metadata": {
        "id": "dJsf9tKk1L2R"
      },
      "source": [
        "D /= x\n",
        "D"
      ],
      "execution_count": null,
      "outputs": []
    },
    {
      "cell_type": "code",
      "metadata": {
        "id": "lyCyb1Ht2O36"
      },
      "source": [
        "E **= y\n",
        "E"
      ],
      "execution_count": null,
      "outputs": []
    },
    {
      "cell_type": "markdown",
      "metadata": {
        "id": "U3VoojmN20F2"
      },
      "source": [
        "### Comparators\n",
        "These are operators that compare the values on either sides of them (given that = is in the middle) and decide the relation among them. They are also called <b>Relational Operators</b>. These consists of <b>equality</b>, <b>non-equality</b> and <b>inequality</b>.[4]"
      ]
    },
    {
      "cell_type": "code",
      "metadata": {
        "id": "NLwaAa1723yA"
      },
      "source": [
        "size_1, size_2, size_3 = 1, 2.0, 1\n",
        "true_size = 1.0"
      ],
      "execution_count": null,
      "outputs": []
    },
    {
      "cell_type": "markdown",
      "metadata": {
        "id": "5z-toG6Vk0Z5"
      },
      "source": [
        "The comparator equality confirms if the two values are **equal** to each other."
      ]
    },
    {
      "cell_type": "code",
      "metadata": {
        "colab": {
          "base_uri": "https://localhost:8080/"
        },
        "id": "nkh5Ma903DJO",
        "outputId": "05b38fa3-0ac7-45d5-f756-3f44f94e202f"
      },
      "source": [
        "## Equality\n",
        "size_1 == true_size"
      ],
      "execution_count": null,
      "outputs": [
        {
          "output_type": "execute_result",
          "data": {
            "text/plain": [
              "True"
            ]
          },
          "metadata": {},
          "execution_count": 62
        }
      ]
    },
    {
      "cell_type": "markdown",
      "metadata": {
        "id": "JHcO2iA7lSZE"
      },
      "source": [
        "In Non-Equality, if the values of two operands **are not equal**, then condition becomes true."
      ]
    },
    {
      "cell_type": "code",
      "metadata": {
        "colab": {
          "base_uri": "https://localhost:8080/"
        },
        "id": "cEBHVWft3Yoj",
        "outputId": "0f2b37a2-7454-438d-902c-599724198361"
      },
      "source": [
        "## Non-Equality\n",
        "size_2 != true_size"
      ],
      "execution_count": null,
      "outputs": [
        {
          "output_type": "execute_result",
          "data": {
            "text/plain": [
              "True"
            ]
          },
          "metadata": {},
          "execution_count": 63
        }
      ]
    },
    {
      "cell_type": "markdown",
      "metadata": {
        "id": "WRXDin6ile7C"
      },
      "source": [
        " Lastly when it comes to Inequality, if the object is less than, greater than, less than or equal to and greater than or equal to then the statment is true. "
      ]
    },
    {
      "cell_type": "code",
      "metadata": {
        "colab": {
          "base_uri": "https://localhost:8080/"
        },
        "id": "_19BcBW53ijo",
        "outputId": "37d382e3-61bb-4ee8-ba61-c07ff590ca6e"
      },
      "source": [
        "## Inequality\n",
        "s1 = size_1 > size_2\n",
        "s2 = size_1 < size_2/2\n",
        "s3 = true_size >= size_1\n",
        "s4 = size_2 <= true_size\n",
        "s4"
      ],
      "execution_count": null,
      "outputs": [
        {
          "output_type": "execute_result",
          "data": {
            "text/plain": [
              "False"
            ]
          },
          "metadata": {},
          "execution_count": 72
        }
      ]
    },
    {
      "cell_type": "markdown",
      "metadata": {
        "id": "w_FjxkEO4mjd"
      },
      "source": [
        "### Logical \n",
        "These are conditional statements (either True or False) which perform Logical **AND**, Logical **OR** and Logical **NOT** operations. [5]"
      ]
    },
    {
      "cell_type": "code",
      "metadata": {
        "id": "GZ_NSPeW4ptN"
      },
      "source": [
        "size_1 == true_size"
      ],
      "execution_count": null,
      "outputs": []
    },
    {
      "cell_type": "markdown",
      "metadata": {
        "id": "rtjrOukioZL4"
      },
      "source": [
        "The Logical <B>IS</B> is true if the operands are identical.[6]"
      ]
    },
    {
      "cell_type": "code",
      "metadata": {
        "id": "sw_8MdcW44uV"
      },
      "source": [
        "size_1 is true_size"
      ],
      "execution_count": null,
      "outputs": []
    },
    {
      "cell_type": "markdown",
      "metadata": {
        "id": "Dxcb79XWootl"
      },
      "source": [
        "The Logical <B>NOT</B> is only true if the operands are not identical."
      ]
    },
    {
      "cell_type": "code",
      "metadata": {
        "id": "4hosF5uQ5KDS"
      },
      "source": [
        "size_1 is not true_size"
      ],
      "execution_count": null,
      "outputs": []
    },
    {
      "cell_type": "markdown",
      "metadata": {
        "id": "kmmjnwpbnXrJ"
      },
      "source": [
        "The Logical <b>AND</b> will only be True if both the operands are true.[5]"
      ]
    },
    {
      "cell_type": "code",
      "metadata": {
        "colab": {
          "base_uri": "https://localhost:8080/"
        },
        "id": "CPuAN4HH5RDP",
        "outputId": "339590b7-585b-48d1-ddf7-a37ee79532d2"
      },
      "source": [
        "P, Q = True, False\n",
        "conj = P and Q"
      ],
      "execution_count": null,
      "outputs": [
        {
          "output_type": "execute_result",
          "data": {
            "text/plain": [
              "False"
            ]
          },
          "metadata": {},
          "execution_count": 79
        }
      ]
    },
    {
      "cell_type": "markdown",
      "metadata": {
        "id": "2J3FXdvknxTM"
      },
      "source": [
        "The Logical <B>OR</B> will only be True if either of the operands is true. [5]"
      ]
    },
    {
      "cell_type": "code",
      "metadata": {
        "colab": {
          "base_uri": "https://localhost:8080/"
        },
        "id": "iI39skwV5tYL",
        "outputId": "1538faa3-afbb-4a57-e53c-18cde2e4d4a6"
      },
      "source": [
        "disj = P or Q \n",
        "disj"
      ],
      "execution_count": null,
      "outputs": [
        {
          "output_type": "execute_result",
          "data": {
            "text/plain": [
              "True"
            ]
          },
          "metadata": {},
          "execution_count": 80
        }
      ]
    },
    {
      "cell_type": "code",
      "metadata": {
        "colab": {
          "base_uri": "https://localhost:8080/"
        },
        "id": "hOAe4euQ55jA",
        "outputId": "4fa015cb-3865-469f-ea74-5e33ce8f49ac"
      },
      "source": [
        "nand = not(P and Q)\n",
        "nand"
      ],
      "execution_count": null,
      "outputs": [
        {
          "output_type": "execute_result",
          "data": {
            "text/plain": [
              "True"
            ]
          },
          "metadata": {},
          "execution_count": 81
        }
      ]
    },
    {
      "cell_type": "code",
      "metadata": {
        "colab": {
          "base_uri": "https://localhost:8080/"
        },
        "id": "a4cxYmPy6Dv3",
        "outputId": "1beda2e8-3400-4e7f-e6f1-0c668861c3db"
      },
      "source": [
        "xor = (not P and Q) or (P and not Q)\n",
        "xor"
      ],
      "execution_count": null,
      "outputs": [
        {
          "output_type": "execute_result",
          "data": {
            "text/plain": [
              "True"
            ]
          },
          "metadata": {},
          "execution_count": 82
        }
      ]
    },
    {
      "cell_type": "markdown",
      "metadata": {
        "id": "gioabk-Z6heq"
      },
      "source": [
        "## Input and Output\n",
        "This is where words are being inserted and displayed. To make use of it, Python uses **print()** as an output while **input ()** is for inserting words/letters in the program. "
      ]
    },
    {
      "cell_type": "code",
      "metadata": {
        "id": "QYYKgUen6lT8"
      },
      "source": [
        "print(\"Hello World!\")"
      ],
      "execution_count": null,
      "outputs": []
    },
    {
      "cell_type": "code",
      "metadata": {
        "id": "-xb71yqJ6zo3"
      },
      "source": [
        "cnt = 14000"
      ],
      "execution_count": null,
      "outputs": []
    },
    {
      "cell_type": "code",
      "metadata": {
        "id": "-6I_6egk7r4U"
      },
      "source": [
        "string = \"Hello World!\"\n",
        "print(string, \", Current COVID count is:\", cnt)\n",
        "cnt += 1000"
      ],
      "execution_count": null,
      "outputs": []
    },
    {
      "cell_type": "code",
      "metadata": {
        "colab": {
          "base_uri": "https://localhost:8080/"
        },
        "id": "nuty7l3N8G2J",
        "outputId": "9a5ebe8d-ee2d-45a6-a731-0a529b574273"
      },
      "source": [
        "print(f\"{string}, current count is:{cnt}\")"
      ],
      "execution_count": null,
      "outputs": [
        {
          "output_type": "stream",
          "name": "stdout",
          "text": [
            "Hello World!, current count is:17006\n"
          ]
        }
      ]
    },
    {
      "cell_type": "code",
      "metadata": {
        "colab": {
          "base_uri": "https://localhost:8080/"
        },
        "id": "AkyP8wkN9UD4",
        "outputId": "2552bbd8-23df-4f17-894c-d17d1a95a9f3"
      },
      "source": [
        "sem_grade = 86.25\n",
        "name = \"Wigo\"\n",
        "print(\"Hello {}, your semestral grade is: {}\" .format(name, sem_grade))"
      ],
      "execution_count": null,
      "outputs": [
        {
          "output_type": "stream",
          "name": "stdout",
          "text": [
            "Hello Wigo, your semestral grade is: 86.25\n"
          ]
        }
      ]
    },
    {
      "cell_type": "code",
      "metadata": {
        "colab": {
          "base_uri": "https://localhost:8080/"
        },
        "id": "XevB6g7z8rrB",
        "outputId": "71d1e66c-5f7d-4c4c-860a-545bb49be8a8"
      },
      "source": [
        "pg, mg, fg = 0.3, 0.3, 0.4\n",
        "print (\"The weights of your semestral grade are:\\\n",
        "\\n\\t {:.2%} for Prelims\\\n",
        "\\n\\t {:.2%} for Midterms, and\\\n",
        "\\n\\t {:.2%} for Finals.\" .format(pg, mg, fg))"
      ],
      "execution_count": null,
      "outputs": [
        {
          "output_type": "stream",
          "name": "stdout",
          "text": [
            "The weights of your semestral grade are:\n",
            "\t 30.00% for Prelims\n",
            "\t 30.00% for Midterms, and\n",
            "\t 40.00% for Finals.\n"
          ]
        }
      ]
    },
    {
      "cell_type": "code",
      "metadata": {
        "id": "sHSxpc5R_HkN"
      },
      "source": [
        "e = input(\"Enter a number: \")"
      ],
      "execution_count": null,
      "outputs": []
    },
    {
      "cell_type": "code",
      "metadata": {
        "id": "ywdAJIpl_ajK",
        "colab": {
          "base_uri": "https://localhost:8080/"
        },
        "outputId": "549bd0d8-fb06-4d95-c6af-3cc9efd678fe"
      },
      "source": [
        "name = input(\"Enter your name: \")\n",
        "pg = input(\"Enter prelim grade: \")\n",
        "mg = input(\"Enter midterm grade: \")\n",
        "fg = input(\"Enter final grade: \")\n",
        "sem_grade = None\n",
        "print(\"Hello {}, your semestral grade is {}\" .format(name, sem_grade))"
      ],
      "execution_count": 1,
      "outputs": [
        {
          "output_type": "stream",
          "name": "stdout",
          "text": [
            "Enter your name: Wigo\n",
            "Enter prelim grade: 86\n",
            "Enter midterm grade: 90\n",
            "Enter final grade: 88\n",
            "Hello Wigo, your semestral grade is None\n"
          ]
        }
      ]
    },
    {
      "cell_type": "markdown",
      "metadata": {
        "id": "5L-1X4ZJCmnw"
      },
      "source": [
        "### Looping Statements\n",
        "Looping statements in python are used to execute a block of statements or code repeatedly for several times as specified by the user.[7]"
      ]
    },
    {
      "cell_type": "markdown",
      "metadata": {
        "id": "ylw_C1CZC6Tn"
      },
      "source": [
        "## While\n",
        "The While loop in python is used to execute multiple statements or codes repeatedly until the given condition is true. It is usually executed with an increment or decrement operator. [7]"
      ]
    },
    {
      "cell_type": "code",
      "metadata": {
        "colab": {
          "base_uri": "https://localhost:8080/"
        },
        "id": "jYkA2ntPC8mH",
        "outputId": "74c2b37a-207c-4cd4-e426-1553e19941b3"
      },
      "source": [
        "## while loops\n",
        "i, j = 0, 10\n",
        "while(i<=j):\n",
        "  print(f\"{i}\\t|\\t{j}\")\n",
        "  i += 1"
      ],
      "execution_count": null,
      "outputs": [
        {
          "output_type": "stream",
          "name": "stdout",
          "text": [
            "0\t|\t10\n",
            "1\t|\t10\n",
            "2\t|\t10\n",
            "3\t|\t10\n",
            "4\t|\t10\n",
            "5\t|\t10\n",
            "6\t|\t10\n",
            "7\t|\t10\n",
            "8\t|\t10\n",
            "9\t|\t10\n",
            "10\t|\t10\n"
          ]
        }
      ]
    },
    {
      "cell_type": "markdown",
      "metadata": {
        "id": "DU4wSd2XDiE4"
      },
      "source": [
        "## For\n",
        "It is used to execute a block of statements or code several times until the given condition becomes false. [7]"
      ]
    },
    {
      "cell_type": "code",
      "metadata": {
        "id": "2l9Nv7cADlk7",
        "colab": {
          "base_uri": "https://localhost:8080/"
        },
        "outputId": "6e9a9470-1512-4a94-a64b-2336b696daf0"
      },
      "source": [
        "# for(int=0; i<10; i++) {\n",
        "# printf(i)\n",
        "# }\n",
        "\n",
        "i = 0 \n",
        "for i in range(11):\n",
        "  print(i)"
      ],
      "execution_count": null,
      "outputs": [
        {
          "output_type": "stream",
          "name": "stdout",
          "text": [
            "0\n",
            "1\n",
            "2\n",
            "3\n",
            "4\n",
            "5\n",
            "6\n",
            "7\n",
            "8\n",
            "9\n",
            "10\n"
          ]
        }
      ]
    },
    {
      "cell_type": "code",
      "metadata": {
        "id": "02713jr1EnpT",
        "colab": {
          "base_uri": "https://localhost:8080/"
        },
        "outputId": "04064942-10f7-44b4-d190-39f576886b96"
      },
      "source": [
        "playlist = [\"Bahay Kubo\", \"Magandang Kanta\", \"Buko\"]\n",
        "print('Now Playing:\\n')\n",
        "for song in playlist: \n",
        "  print(song)"
      ],
      "execution_count": null,
      "outputs": [
        {
          "output_type": "stream",
          "name": "stdout",
          "text": [
            "Now Playing:\n",
            "\n",
            "Bahay Kubo\n",
            "Magandang Kanta\n",
            "Buko\n"
          ]
        }
      ]
    },
    {
      "cell_type": "markdown",
      "metadata": {
        "id": "jY-eTaqfFK4w"
      },
      "source": [
        "## Flow Control \n",
        "The control flow of a Python program is regulated by conditional statements, loops, and function calls. This section covers the if statement and for and while loops[8]"
      ]
    },
    {
      "cell_type": "markdown",
      "metadata": {
        "id": "3jURZ1WEFRIP"
      },
      "source": [
        "### Condition Statements\n",
        "Conditional statements are also known as decision-making statements. The use these conditional statements are needed to execute the specific block of code if the given condition is true or false. [9]"
      ]
    },
    {
      "cell_type": "code",
      "metadata": {
        "colab": {
          "base_uri": "https://localhost:8080/"
        },
        "id": "_selIOSMFTx8",
        "outputId": "44138dba-18cd-465f-ca0a-ef3c7df72180"
      },
      "source": [
        "num_1, num_2 = 14, 12\n",
        "if(num_1 == num_2):\n",
        "  print(\"HAHA\")\n",
        "elif(num_1>num_2):\n",
        "    print(\"HOHO\")\n",
        "else:\n",
        "    print(\"HUHU\")"
      ],
      "execution_count": null,
      "outputs": [
        {
          "output_type": "stream",
          "name": "stdout",
          "text": [
            "HOHO\n"
          ]
        }
      ]
    },
    {
      "cell_type": "markdown",
      "metadata": {
        "id": "xA0jxQ9EGWf9"
      },
      "source": [
        "## Functions\n",
        "This refers to a block of code which only runs when it is called."
      ]
    },
    {
      "cell_type": "code",
      "metadata": {
        "id": "e4vEMpkkGZtZ"
      },
      "source": [
        "# void DeleteUser (int userid){\n",
        "#  delete(userid);\n",
        "#}\n",
        "\n",
        "def delete_user(userid):\n",
        "    print(\"Successfully deleted user:{}\" .format(userid))"
      ],
      "execution_count": null,
      "outputs": []
    },
    {
      "cell_type": "code",
      "metadata": {
        "colab": {
          "base_uri": "https://localhost:8080/"
        },
        "id": "e00Jm7CHG2bv",
        "outputId": "15d257d7-1ac4-4b47-9da8-156f9b1281ee"
      },
      "source": [
        "userid = 202014333\n",
        "delete_user (202014333)"
      ],
      "execution_count": null,
      "outputs": [
        {
          "output_type": "stream",
          "name": "stdout",
          "text": [
            "Successfully deleted user:202014333\n"
          ]
        }
      ]
    },
    {
      "cell_type": "code",
      "metadata": {
        "id": "KG9lM4ZFHOwj"
      },
      "source": [
        "def add(addend1, addend2):\n",
        "  sum = addend1 + addend2\n",
        "  return sum\n"
      ],
      "execution_count": null,
      "outputs": []
    },
    {
      "cell_type": "code",
      "metadata": {
        "colab": {
          "base_uri": "https://localhost:8080/"
        },
        "id": "s9mrjc4gIHif",
        "outputId": "501fb143-aa7a-4d66-bb09-98c0d9b24a65"
      },
      "source": [
        "add(5, 4)"
      ],
      "execution_count": null,
      "outputs": [
        {
          "output_type": "execute_result",
          "data": {
            "text/plain": [
              "9"
            ]
          },
          "metadata": {},
          "execution_count": 140
        }
      ]
    },
    {
      "cell_type": "markdown",
      "metadata": {
        "id": "YoYf1Asxaa0W"
      },
      "source": [
        "## References\n",
        "[1] O’Reilly Media, Inc.(2021).\"Variable and Data Types\". Available: https://www.oreilly.com/library/view/writing-word-macros/9781565927254/ch05s04.html Accessed on 14-09-2021.\n",
        "\n",
        "[2] Tutorialspoit(2021).\"Python-Basic Operators\". Available: https://www.tutorialspoint.com/python/python_basic_operators.htm Accessed on 14-09-2021.\n",
        "\n",
        "[3] Free Code Camp Org(2019).\"Modulo\". Available: https://www.freecodecamp.org/news/content/Paimages/2019/09/image-197.png Accessed on 14-09-2021\n",
        "\n",
        "[4] Tutorialspoit(2021).\"Python Comparison Operators Example\". Available: https://www.tutorialspoint.com/python/comparison_operators_example.htm Accessed on 14-09-2021.\n",
        "\n",
        "[5] GeeksforGeeks(2013).\"Python Logical Operators\". Available:https://www.geeksforgeeks.org/python-logical-operators-with-examples-improvement-needed/  Accessed on 14-09-2021.\n",
        "\n",
        "[6] Programiz(2021).\"Python Programming Operators\". Available:https://www.programiz.com/python-programming/operators Accessed on 14-09-2021.\n",
        "\n",
        "[7] Parewa Labz(2021). \"Looping\". Available: https://www.softwaretestinghelp.com/python/looping-in-python-for-while-nested-loops/ Accessed on 14-09-2021.\n",
        "\n",
        "[8] O’Reilly Media, Inc.(2021). \"Python\". Available: https://www.oreilly.com/library/view/python-in-a/0596001886/ch04s09.html Accessed on 14-09-2021.\n",
        "\n",
        "[9] Software Testing Help(2021). Available:https://www.softwaretestinghelp.com/python/python-conditional-statements/ Accessed on 14-09-2021.\n"
      ]
    }
  ]
}